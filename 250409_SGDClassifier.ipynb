{
  "cells": [
    {
      "cell_type": "markdown",
      "metadata": {
        "id": "view-in-github",
        "colab_type": "text"
      },
      "source": [
        "<a href=\"https://colab.research.google.com/github/yeonmi02/machine-learning-practice/blob/main/250409_SGDClassifier.ipynb\" target=\"_parent\"><img src=\"https://colab.research.google.com/assets/colab-badge.svg\" alt=\"Open In Colab\"/></a>"
      ]
    },
    {
      "cell_type": "markdown",
      "metadata": {
        "id": "LvdCUcd1DezS"
      },
      "source": [
        "# 확률적 경사 하강법"
      ]
    },
    {
      "cell_type": "markdown",
      "metadata": {
        "id": "3x4OwaSIR50l"
      },
      "source": [
        "## SGDClassifier"
      ]
    },
    {
      "cell_type": "code",
      "execution_count": 1,
      "metadata": {
        "id": "j3z-zKXoRmWB"
      },
      "outputs": [],
      "source": [
        "import pandas as pd\n",
        "# 데이터 셋 불러오는 코드\n",
        "fish = pd.read_csv('https://bit.ly/fish_csv')"
      ]
    },
    {
      "cell_type": "code",
      "execution_count": 2,
      "metadata": {
        "id": "WAiJVY9nR1fF"
      },
      "outputs": [],
      "source": [
        "fish_input = fish[['Weight','Length','Diagonal','Height','Width']].to_numpy() # 정답을 제외한 특성을 배열로 생성\n",
        "fish_target = fish['Species'].to_numpy() # 타켓값 y값에 대해서도 배열로 변환하는 코드"
      ]
    },
    {
      "cell_type": "code",
      "execution_count": 3,
      "metadata": {
        "id": "AW6LMW_URpto"
      },
      "outputs": [],
      "source": [
        "from sklearn.model_selection import train_test_split\n",
        "# 실제 훈련 데이터셋과 테스트 데이터셋을 분류\n",
        "train_input, test_input, train_target, test_target = train_test_split(\n",
        "    fish_input, fish_target, random_state=42)"
      ]
    },
    {
      "cell_type": "code",
      "execution_count": 4,
      "metadata": {
        "id": "1RTAwK_DRutj"
      },
      "outputs": [],
      "source": [
        "# 표준화 시키기위해 인포트를 하는 과정\n",
        "from sklearn.preprocessing import StandardScaler\n",
        "# 표준화 작업 코드\n",
        "ss = StandardScaler()\n",
        "ss.fit(train_input) # 학습시키는 fit 아님\n",
        "train_scaled = ss.transform(train_input) # 훈련 데이터를 기준으로 스케일링 한다.\n",
        "test_scaled = ss.transform(test_input)"
      ]
    },
    {
      "cell_type": "code",
      "execution_count": 6,
      "metadata": {
        "id": "FSyujXY7sli6"
      },
      "outputs": [],
      "source": [
        "from sklearn.linear_model import SGDClassifier # 모델 입력"
      ]
    },
    {
      "cell_type": "code",
      "execution_count": 7,
      "metadata": {
        "colab": {
          "base_uri": "https://localhost:8080/"
        },
        "id": "KofoXhbwR9yu",
        "outputId": "bbc0880b-f017-439d-948a-f0ffc3fce7f1"
      },
      "outputs": [
        {
          "output_type": "stream",
          "name": "stdout",
          "text": [
            "0.773109243697479\n",
            "0.775\n"
          ]
        },
        {
          "output_type": "stream",
          "name": "stderr",
          "text": [
            "/usr/local/lib/python3.11/dist-packages/sklearn/linear_model/_stochastic_gradient.py:738: ConvergenceWarning: Maximum number of iteration reached before convergence. Consider increasing max_iter to improve the fit.\n",
            "  warnings.warn(\n"
          ]
        }
      ],
      "source": [
        "sc = SGDClassifier(loss='log_loss', max_iter=10, random_state=42) # 로그 손실함수 사용\n",
        "sc.fit(train_scaled, train_target) # 학습 시키기\n",
        "# 정확도 확인\n",
        "print(sc.score(train_scaled, train_target))\n",
        "print(sc.score(test_scaled, test_target))"
      ]
    },
    {
      "cell_type": "code",
      "execution_count": 8,
      "metadata": {
        "colab": {
          "base_uri": "https://localhost:8080/"
        },
        "id": "duwA4N3eSUk5",
        "outputId": "e793ce42-3930-42fb-9f82-759d56939583"
      },
      "outputs": [
        {
          "output_type": "stream",
          "name": "stdout",
          "text": [
            "0.7983193277310925\n",
            "0.775\n"
          ]
        }
      ],
      "source": [
        "sc.partial_fit(train_scaled, train_target) # 부분적 학습\n",
        "\n",
        "print(sc.score(train_scaled, train_target))\n",
        "print(sc.score(test_scaled, test_target))"
      ]
    },
    {
      "cell_type": "markdown",
      "metadata": {
        "id": "TEtfnUQhzKO2"
      },
      "source": [
        "## 에포크와 과대/과소적합"
      ]
    },
    {
      "cell_type": "code",
      "execution_count": 9,
      "metadata": {
        "id": "pt7BHZVZ-dWT"
      },
      "outputs": [],
      "source": [
        "import numpy as np\n",
        "\n",
        "sc = SGDClassifier(loss='log_loss', random_state=42)\n",
        "\n",
        "train_score = []\n",
        "test_score = []\n",
        "\n",
        "classes = np.unique(train_target)"
      ]
    },
    {
      "cell_type": "code",
      "execution_count": 10,
      "metadata": {
        "id": "-65Gz13tVOP7"
      },
      "outputs": [],
      "source": [
        "for _ in range(0, 300):\n",
        "    sc.partial_fit(train_scaled, train_target, classes=classes)\n",
        "# 훈련과 테스트 데이터를 어펜드 시킨다\n",
        "    train_score.append(sc.score(train_scaled, train_target))\n",
        "    test_score.append(sc.score(test_scaled, test_target))"
      ]
    },
    {
      "cell_type": "code",
      "execution_count": 11,
      "metadata": {
        "colab": {
          "base_uri": "https://localhost:8080/",
          "height": 430
        },
        "id": "V19SzZJ5ZjSI",
        "outputId": "97941995-3ec1-4844-be48-17dd6c9eda52"
      },
      "outputs": [
        {
          "output_type": "display_data",
          "data": {
            "text/plain": [
              "<Figure size 640x480 with 1 Axes>"
            ],
            "image/png": "[encoded data removed]"
          },
          "metadata": {}
        }
      ],
      "source": [
        "import matplotlib.pyplot as plt\n",
        "\n",
        "plt.plot(train_score)\n",
        "plt.plot(test_score)\n",
        "plt.show()"
      ]
    },
    {
      "cell_type": "code",
      "execution_count": 12,
      "metadata": {
        "colab": {
          "base_uri": "https://localhost:8080/"
        },
        "id": "pdp2Ykst1K_I",
        "outputId": "5ae5b214-f356-44a6-e5f7-dde8854a469d"
      },
      "outputs": [
        {
          "output_type": "stream",
          "name": "stdout",
          "text": [
            "0.957983193277311\n",
            "0.925\n"
          ]
        }
      ],
      "source": [
        "sc = SGDClassifier(loss='log_loss', max_iter=100, tol=None, random_state=42) # 조기 종료\n",
        "sc.fit(train_scaled, train_target)\n",
        "# 정확도 확인\n",
        "print(sc.score(train_scaled, train_target))\n",
        "print(sc.score(test_scaled, test_target))"
      ]
    },
    {
      "cell_type": "code",
      "execution_count": 13,
      "metadata": {
        "colab": {
          "base_uri": "https://localhost:8080/"
        },
        "id": "OL7-y1kgIP4S",
        "outputId": "4a7a472c-d545-4219-e57a-a3ca93b6fecf"
      },
      "outputs": [
        {
          "output_type": "stream",
          "name": "stdout",
          "text": [
            "0.9495798319327731\n",
            "0.925\n"
          ]
        }
      ],
      "source": [
        "sc = SGDClassifier(loss='hinge', max_iter=100, tol=None, random_state=42) # 힌지는 SVM의 손실함수\n",
        "sc.fit(train_scaled, train_target)\n",
        "\n",
        "print(sc.score(train_scaled, train_target))\n",
        "print(sc.score(test_scaled, test_target))"
      ]
    }
  ],
  "metadata": {
    "colab": {
      "provenance": [],
      "include_colab_link": true
    },
    "kernelspec": {
      "display_name": "TensorFlow 2.3 on Python 3.6 (CUDA 10.1)",
      "language": "python",
      "name": "python3"
    },
    "language_info": {
      "codemirror_mode": {
        "name": "ipython",
        "version": 3
      },
      "file_extension": ".py",
      "mimetype": "text/x-python",
      "name": "python",
      "nbconvert_exporter": "python",
      "pygments_lexer": "ipython3",
      "version": "3.6.9"
    }
  },
  "nbformat": 4,
  "nbformat_minor": 0
}